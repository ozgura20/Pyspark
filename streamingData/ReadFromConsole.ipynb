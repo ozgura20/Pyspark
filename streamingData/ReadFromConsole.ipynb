{
 "cells": [
  {
   "cell_type": "code",
   "execution_count": 32,
   "id": "871181ec-fdb5-4466-a6c8-7121ecb18804",
   "metadata": {},
   "outputs": [],
   "source": [
    "from pyspark.sql import SparkSession\n",
    "from pyspark.sql.types import *\n",
    "import pyspark.sql.functions as f"
   ]
  },
  {
   "cell_type": "code",
   "execution_count": 33,
   "id": "28c99011-0f23-446e-907a-b965302da608",
   "metadata": {},
   "outputs": [],
   "source": [
    "spark = SparkSession.builder \\\n",
    ".master(\"local[4]\") \\\n",
    ".appName(\"ReadFromFile2\") \\\n",
    ".config(\"spark.driver.memory\",\"2g\") \\\n",
    ".config(\"spark.executor.memory\",\"4g\") \\\n",
    ".getOrCreate()"
   ]
  },
  {
   "cell_type": "code",
   "execution_count": 42,
   "id": "7916cb4a-1370-4c5d-adc5-5b6bdd6ab082",
   "metadata": {},
   "outputs": [],
   "source": [
    "lines = spark.readStream \\\n",
    ".format(\"socket\") \\\n",
    ".option(\"host\",\"172.17.0.3\") \\\n",
    ".option(\"port\", 9999) \\\n",
    ".load()"
   ]
  },
  {
   "cell_type": "code",
   "execution_count": 43,
   "id": "00d0898f-58a6-4636-bc1e-cd41046c51f9",
   "metadata": {},
   "outputs": [],
   "source": [
    "words = lines.select(f.explode(f.split(f.col(\"value\"), \" \")).alias(\"word\"))"
   ]
  },
  {
   "cell_type": "code",
   "execution_count": 44,
   "id": "6c14c26f-1374-4066-b70c-b5ab4b04b4be",
   "metadata": {},
   "outputs": [],
   "source": [
    "word_counts = words.groupBy(\"word\").count().sort(f.desc(\"count\"))"
   ]
  },
  {
   "cell_type": "markdown",
   "id": "73de6686-d64a-4382-ac15-4d73001519b3",
   "metadata": {},
   "source": [
    "Open Port\n",
    "docker run -i --rm --network=bridge  subfuzion/netcat -vl 9999"
   ]
  },
  {
   "cell_type": "code",
   "execution_count": 45,
   "id": "6d685255-5b1a-43dc-82dd-8bd8e839c58a",
   "metadata": {},
   "outputs": [],
   "source": [
    "query = word_counts.writeStream \\\n",
    ".outputMode(\"complete\") \\\n",
    ".format(\"console\") \\\n",
    ".start()"
   ]
  },
  {
   "cell_type": "code",
   "execution_count": null,
   "id": "0c515b1b-4a31-416f-9354-51431ec8dbf2",
   "metadata": {},
   "outputs": [],
   "source": [
    "query.awaitTermination()"
   ]
  },
  {
   "cell_type": "code",
   "execution_count": 40,
   "id": "89d83adc-b96a-4879-9241-d39463062789",
   "metadata": {},
   "outputs": [],
   "source": [
    "query.stop()"
   ]
  },
  {
   "cell_type": "code",
   "execution_count": null,
   "id": "38667d48-cd31-4c7b-9f1c-343954b37979",
   "metadata": {},
   "outputs": [],
   "source": []
  }
 ],
 "metadata": {
  "kernelspec": {
   "display_name": "Python 3 (ipykernel)",
   "language": "python",
   "name": "python3"
  },
  "language_info": {
   "codemirror_mode": {
    "name": "ipython",
    "version": 3
   },
   "file_extension": ".py",
   "mimetype": "text/x-python",
   "name": "python",
   "nbconvert_exporter": "python",
   "pygments_lexer": "ipython3",
   "version": "3.10.6"
  }
 },
 "nbformat": 4,
 "nbformat_minor": 5
}
